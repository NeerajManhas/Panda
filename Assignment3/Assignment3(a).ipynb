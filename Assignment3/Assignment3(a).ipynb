{
 "cells": [
  {
   "cell_type": "markdown",
   "id": "b91d0570",
   "metadata": {},
   "source": [
    "# Assignment 3(a)"
   ]
  },
  {
   "cell_type": "markdown",
   "id": "c4849098",
   "metadata": {},
   "source": [
    "Q.No. 3(a): Retrieve the values ([[4,5,6],[6,7,8]]) from given array using indexing."
   ]
  },
  {
   "cell_type": "markdown",
   "id": "2eff501a",
   "metadata": {},
   "source": [
    "Solution:"
   ]
  },
  {
   "cell_type": "code",
   "execution_count": 3,
   "id": "be6b4609",
   "metadata": {},
   "outputs": [],
   "source": [
    "import numpy as np"
   ]
  },
  {
   "cell_type": "code",
   "execution_count": 7,
   "id": "7c9e6294",
   "metadata": {},
   "outputs": [],
   "source": [
    "list1=[1,2,3,4,5]\n",
    "list2=[2,3,4,5,6]\n",
    "list3=[4,5,6,7,8]\n",
    "\n",
    "arr=np.array([list1,list2,list3])"
   ]
  },
  {
   "cell_type": "code",
   "execution_count": null,
   "id": "803b8181",
   "metadata": {},
   "outputs": [],
   "source": [
    "array([[1,2,3,4,5],\n",
    "       [2,3,4,5,6],\n",
    "       [4,5,6,7,8]])"
   ]
  },
  {
   "cell_type": "code",
   "execution_count": 15,
   "id": "cc1ef121",
   "metadata": {
    "scrolled": true
   },
   "outputs": [
    {
     "data": {
      "text/plain": [
       "array([[4, 5, 6],\n",
       "       [6, 7, 8]])"
      ]
     },
     "execution_count": 15,
     "metadata": {},
     "output_type": "execute_result"
    }
   ],
   "source": [
    "arr[1:,2:]"
   ]
  }
 ],
 "metadata": {
  "kernelspec": {
   "display_name": "Python 3",
   "language": "python",
   "name": "python3"
  },
  "language_info": {
   "codemirror_mode": {
    "name": "ipython",
    "version": 3
   },
   "file_extension": ".py",
   "mimetype": "text/x-python",
   "name": "python",
   "nbconvert_exporter": "python",
   "pygments_lexer": "ipython3",
   "version": "3.8.8"
  }
 },
 "nbformat": 4,
 "nbformat_minor": 5
}
